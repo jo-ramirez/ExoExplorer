{
 "cells": [
  {
   "cell_type": "code",
   "execution_count": 5,
   "id": "74195c0e",
   "metadata": {},
   "outputs": [
    {
     "name": "stderr",
     "output_type": "stream",
     "text": [
      "c:\\Users\\jm_ra\\OneDrive - Universidad de Concepción\\Projectos\\NASA_SPACE\\venv\\Lib\\site-packages\\lightkurve\\prf\\__init__.py:7: UserWarning: Warning: the tpfmodel submodule is not available without oktopus installed, which requires a current version of autograd. See #1452 for details.\n",
      "  warnings.warn(\n"
     ]
    }
   ],
   "source": [
    "import numpy  as np\n",
    "import pandas as pd\n",
    "import lightkurve as lk\n",
    "\n",
    "from scipy.stats import kurtosis"
   ]
  },
  {
   "cell_type": "code",
   "execution_count": 6,
   "id": "9fa42384",
   "metadata": {},
   "outputs": [],
   "source": [
    "import os"
   ]
  },
  {
   "cell_type": "code",
   "execution_count": 7,
   "id": "0c3bcc90",
   "metadata": {},
   "outputs": [],
   "source": [
    "def _select_windows(phase, flux, width):\n",
    "    \"\"\"Devuelve máscaras para: in-transit (|phi|<=w) y out-of-transit (|phi|>=3w).\"\"\"\n",
    "    in_tr = np.abs(phase) <= width\n",
    "    oot   = np.abs(phase) >= 3*width\n",
    "    return in_tr, oot\n",
    "\n",
    "def _baseline_depth(phase, flux, width):\n",
    "    \"\"\"Estima baseline (OOT) y profundidad del tránsito.\"\"\"\n",
    "    in_tr, oot = _select_windows(phase, flux, width)\n",
    "    if np.sum(oot) < 10:  # fallback si no hay suficiente OOT\n",
    "        baseline = np.median(flux)\n",
    "    else:\n",
    "        baseline = np.median(flux[oot])\n",
    "    depth = baseline - np.min(flux[in_tr]) if np.any(in_tr) else 0.0\n",
    "    if depth <= 0:\n",
    "        depth = np.ptp(flux) * 0.05 + 1e-9  # evita divisiones por cero\n",
    "    return baseline, depth"
   ]
  },
  {
   "cell_type": "code",
   "execution_count": 8,
   "id": "8f5e6ac5",
   "metadata": {},
   "outputs": [],
   "source": [
    "def symmetry_index(phase, flux, width=0.05, nbins=100):\n",
    "    phase = np.asarray(phase)\n",
    "    flux  = np.asarray(flux)\n",
    "\n",
    "    # Ventana del tránsito\n",
    "    sel = np.abs(phase) <= width\n",
    "    if np.sum(sel) < 20:\n",
    "        return np.nan\n",
    "\n",
    "    # Bin en |phi|\n",
    "    abs_phi = np.abs(phase[sel])\n",
    "    f_sel   = flux[sel]\n",
    "\n",
    "    bins = np.linspace(0, width, nbins+1)\n",
    "    idx  = np.digitize(abs_phi, bins) - 1\n",
    "    \n",
    "    # Para cada bin, calculamos mediana en lado negativo y positivo\n",
    "    diffs = []\n",
    "    for b in range(nbins):\n",
    "        mask_bin = idx == b\n",
    "        if not np.any(mask_bin):\n",
    "            continue\n",
    "        phi_bin  = phase[sel][mask_bin]\n",
    "        f_bin    = f_sel[mask_bin]\n",
    "        neg = (phi_bin < 0); pos = (phi_bin > 0)\n",
    "        if np.any(neg) and np.any(pos):\n",
    "            f_neg = np.median(f_bin[neg])\n",
    "            f_pos = np.median(f_bin[pos])\n",
    "            diffs.append(np.abs(f_pos - f_neg))\n",
    "\n",
    "    if len(diffs) == 0:\n",
    "        return np.nan\n",
    "\n",
    "    # Normalizamos por la profundidad para hacerlo adimensional\n",
    "    _, depth = _baseline_depth(phase, flux, width)\n",
    "    return np.median(diffs) / depth"
   ]
  },
  {
   "cell_type": "code",
   "execution_count": 9,
   "id": "c6e99006",
   "metadata": {},
   "outputs": [],
   "source": [
    "def v_u_kurtosis(phase, flux, width=0.05):\n",
    "\n",
    "    phase = np.asarray(phase)\n",
    "    flux  = np.asarray(flux)\n",
    "\n",
    "    in_tr, oot = _select_windows(phase, flux, width)\n",
    "\n",
    "    if np.sum(in_tr) < 20:\n",
    "        return np.nan\n",
    "\n",
    "    baseline, depth = _baseline_depth(phase, flux, width)\n",
    "    x = (baseline - flux[in_tr]) / depth\n",
    "    # scipy.stats.kurtosis por defecto devuelve “exceso de kurtosis” (Fisher=True).\n",
    "    # Ponemos Fisher=False para que la gaussiana tenga 3 (más intuitivo).\n",
    "    return kurtosis(x, fisher=False, bias=False)"
   ]
  },
  {
   "cell_type": "code",
   "execution_count": 10,
   "id": "ac18a521",
   "metadata": {},
   "outputs": [],
   "source": [
    "def ingress_egress_slopes(phase, flux, width=0.05):\n",
    "    phase = np.asarray(phase)\n",
    "    flux  = np.asarray(flux)\n",
    "\n",
    "    # Ingreso: (-w, 0)\n",
    "    ing = (phase >= -width) & (phase < 0)\n",
    "    egr = (phase > 0) & (phase <= +width)\n",
    "\n",
    "    m_ing, m_egr = np.nan, np.nan\n",
    "    if np.sum(ing) >= 5:\n",
    "        m_ing = np.polyfit(phase[ing], flux[ing], 1)[0]\n",
    "    if np.sum(egr) >= 5:\n",
    "        m_egr = np.polyfit(phase[egr], flux[egr], 1)[0]\n",
    "    return m_ing, m_egr"
   ]
  },
  {
   "cell_type": "code",
   "execution_count": null,
   "id": "96ca1efe",
   "metadata": {},
   "outputs": [],
   "source": [
    "def metrics_from_folded_lc(fold_lc, width=0.1):\n",
    "    phase = np.asarray(getattr(fold_lc, \"phase\").value if hasattr(fold_lc, \"phase\") else fold_lc.phase)\n",
    "    flux  = np.asarray(getattr(fold_lc, \"flux\").value  if hasattr(fold_lc, \"flux\")  else fold_lc.flux)\n",
    "\n",
    "    asym = symmetry_index(phase, flux, width=width)\n",
    "    kurt = v_u_kurtosis(phase, flux, width=width)\n",
    "    m_ing, m_egr = ingress_egress_slopes(phase, flux, width=width)\n",
    "\n",
    "    return {\n",
    "        \"asymmetry_index\": asym,\n",
    "        \"v_u_kurtosis\":    kurt,\n",
    "        \"ingress_slope\":   m_ing,\n",
    "        \"egress_slope\":    m_egr,\n",
    "    }"
   ]
  },
  {
   "cell_type": "code",
   "execution_count": null,
   "id": "26b07e64",
   "metadata": {},
   "outputs": [
    {
     "data": {
      "text/plain": [
       "['KIC-10015516.fits', 'KIC-10118816.fits', 'KIC-10122255.fits']"
      ]
     },
     "execution_count": 12,
     "metadata": {},
     "output_type": "execute_result"
    }
   ],
   "source": []
  }
 ],
 "metadata": {
  "kernelspec": {
   "display_name": "venv",
   "language": "python",
   "name": "python3"
  },
  "language_info": {
   "codemirror_mode": {
    "name": "ipython",
    "version": 3
   },
   "file_extension": ".py",
   "mimetype": "text/x-python",
   "name": "python",
   "nbconvert_exporter": "python",
   "pygments_lexer": "ipython3",
   "version": "3.13.2"
  }
 },
 "nbformat": 4,
 "nbformat_minor": 5
}
